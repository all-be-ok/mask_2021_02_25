{
 "cells": [
  {
   "cell_type": "code",
   "execution_count": 1,
   "metadata": {},
   "outputs": [
    {
     "name": "stdout",
     "output_type": "stream",
     "text": [
      "Requirement already satisfied: opencv-python in ./opt/anaconda3/lib/python3.8/site-packages (4.4.0.46)\r\n",
      "Requirement already satisfied: numpy>=1.17.3 in ./opt/anaconda3/lib/python3.8/site-packages (from opencv-python) (1.19.4)\r\n"
     ]
    }
   ],
   "source": [
    "! pip install opencv-python # \n",
    "# устанавливаем библиотеку opencv.org для возможности работы с медиафайлами\n",
    "# в колабе она есть по умолчанию"
   ]
  },
  {
   "cell_type": "code",
   "execution_count": 2,
   "metadata": {},
   "outputs": [],
   "source": [
    "import cv2                        # импорт библиотеки. это \"обертка\" над OPENCV для управления из пайтона\n",
    "from IPython.display import Image # пакет IPython, подпакет display. функция импорт. импортировать карттинки как картинки"
   ]
  },
  {
   "cell_type": "code",
   "execution_count": 3,
   "metadata": {
    "scrolled": true
   },
   "outputs": [],
   "source": [
    "import random  # импорт библиотеки генератора случайных чисел"
   ]
  },
  {
   "cell_type": "code",
   "execution_count": 4,
   "metadata": {},
   "outputs": [],
   "source": [
    "# передаем картинку в обьект IMG\n",
    "\n",
    "img = cv2.imread('image1.jpg') \n",
    "\n",
    "\n",
    "\n",
    "# в обьект IMG с помощью команды imread библиотеки cv2 передаем нашу картинку image1.jpg\n",
    "\n",
    "# картинка должна лежать в одном каталоге с проектом, либо указывать абсолютный путь "
   ]
  },
  {
   "cell_type": "code",
   "execution_count": 5,
   "metadata": {},
   "outputs": [
    {
     "data": {
      "text/plain": [
       "True"
      ]
     },
     "execution_count": 5,
     "metadata": {},
     "output_type": "execute_result"
    }
   ],
   "source": [
    "import numpy as np\n",
    "from numpy import clip\n",
    "import cv2\n",
    "import skimage.io\n",
    "from skimage.color import rgb2gray\n",
    "img = cv2.imread('4_upro.jpg') \n",
    "\n",
    "\n",
    "# СЕРЫЙ\n",
    "#r, g, b = np.dsplit(img, 3)  # выделяем каналы RGB\n",
    "#img=(r+b+g)/3 \n",
    "#img = 0.2126 * r + 0.7152 * g + 0.0722 * b\n",
    "#img = rgb2gray(img)\n",
    "\n",
    "\n",
    "# РАЗМЕР\n",
    "# img=cv2.resize (img,(28,28))  \n",
    "\n",
    "\n",
    "# ИНВЕРСИЯ\n",
    "#for i in range(28): # координаты по вертикали, от лев верхнего\n",
    "#    for j in range(28):# оординаты по горизонтали, от лев верхн\n",
    "#        inv=img [i] [j]\n",
    "#        img [i] [j] = 255-inv\n",
    "        \n",
    "\n",
    "        \n",
    "#img = cv2.bitwise_not(img)      \n",
    "\n",
    "\n",
    "img = img.astype('float32') # преобразовываем x_test в тип float (цифры с плавающей точкой)\n",
    "img = img / 255 # делим на 255, чтобы диапазон был от 0 до 1\n",
    "\n",
    "\n",
    "\n",
    "\n",
    "\n",
    "\n",
    "img=(clip(img*0.3,0.3,0.3))\n",
    "\n",
    "\n",
    "\n",
    "\n",
    "\n",
    "\n",
    "\n",
    "cv2.imwrite ('image1_test.jpg', img) "
   ]
  },
  {
   "cell_type": "code",
   "execution_count": 6,
   "metadata": {},
   "outputs": [],
   "source": [
    "# подаем обьект IMG на печать - на выходе цифры\n",
    "\n",
    "# print (img)\n",
    "\n",
    "\n",
    "# без строки from IPython.display import Image получаем цифры. как видит комп\n",
    "# показаны BGR цвета по порядку следования пикселей"
   ]
  },
  {
   "cell_type": "code",
   "execution_count": 7,
   "metadata": {},
   "outputs": [],
   "source": [
    "# рисуем закрашенный  зеленый прямоугольник\n",
    "\n",
    "# for i in range(1000): # координаты по вертикали, от лев верхнего\n",
    "    # for j in range(2000):# оординаты по горизонтали, от лев верхн\n",
    "        # img [i] [j] = [0,255,0] # пиксель i,j обьекта IMG закрасить в зеленый цвет"
   ]
  },
  {
   "cell_type": "code",
   "execution_count": 8,
   "metadata": {},
   "outputs": [],
   "source": [
    "# рисуем  прямоугольник серости \n",
    "\n",
    "\n",
    "#for i in range(5000): # координаты по вертикали, от лев верхнего\n",
    "#    for j in range(3000):# оординаты по горизонтали, от лев верхн\n",
    "#        new_color = sum(img[i][j])/3 новая для каждой i,J цифра, среднее арифметическое от BGR|3\n",
    "#        img [i] [j] = [new_color,new_color,new_color]\n",
    "        "
   ]
  },
  {
   "cell_type": "code",
   "execution_count": 9,
   "metadata": {},
   "outputs": [],
   "source": [
    "\n",
    "# рисуем закрашенный   белым шумом прямоугольник\n",
    "#for i in range(2000): # координаты по вертикали, от лев верхнего\n",
    "#    for j in range(1000):# оординаты по горизонтали, от лев верхн\n",
    "#        img [i] [j] = [random.randint(0,255),random.randint(0,255),random.randint(0,255)] # пиксель i,j обьекта IMG закрасить в произвольный цвет\n",
    " # генератор random.randint(0,255) - генерит случайное целое число от 0 до 255"
   ]
  },
  {
   "cell_type": "code",
   "execution_count": 10,
   "metadata": {},
   "outputs": [],
   "source": [
    "# выводим на печать именно картинку  - смотри строку from IPython.display import Image\n",
    "\n",
    "# Image ('image1.jpg') "
   ]
  },
  {
   "cell_type": "code",
   "execution_count": 11,
   "metadata": {},
   "outputs": [],
   "source": [
    "# делаем левый верхний пиксель - черным\n",
    "\n",
    "# img [0][0]=[0,0,0] # в обьекте IMG (туда загружена картинка, смотри img = cv2.imread('image1.jpg') ) левый верхний пикель с координатами 00 присваеваем цвет 000"
   ]
  },
  {
   "cell_type": "code",
   "execution_count": 12,
   "metadata": {},
   "outputs": [],
   "source": [
    "# рисуем прямоугольник\n",
    "\n",
    "#x1,y1 = 1550,1050 # Координаты левого верхнего угла\n",
    "#x2,y2 = 1950,1370 # Координаты правого нижнего угла\n",
    "#color = [0,255,0] # Цвет\n",
    "#width = 5         # Толщина линий\n",
    "\n",
    "\n",
    "#img = cv2.rectangle (img,(x1,y1),(x2,y2), color, width) # Рисуем в картинке (переменная img) прямоугольник по формату, исползуля инструмент  cv2"
   ]
  },
  {
   "cell_type": "code",
   "execution_count": 13,
   "metadata": {},
   "outputs": [],
   "source": [
    "# рисуем линию\n",
    "\n",
    "#x1,y1 = 0,0       # Координаты левого верхнего угла\n",
    "#x2,y2 = 2000,2000 # Координаты правого нижнего угла\n",
    "#color = [0,0,255] # Цвет\n",
    "#width = 5         # Толщина линий\n",
    "\n",
    "\n",
    "#img = cv2.line (img,(x1,y1),(x2,y2), color, width) # Рисуем в картинке (переменная img) линия по формату, исползуля инструмент  cv2"
   ]
  },
  {
   "cell_type": "code",
   "execution_count": 14,
   "metadata": {},
   "outputs": [],
   "source": [
    "# рисуем круг\n",
    "\n",
    "#x1,y1 = 600, 600  # Координаты центра\n",
    "#r = 600           # Радиус\n",
    "#color = [255,0,0] # Цвет (синий)\n",
    "#width = 5         # Толщина линий\n",
    "\n",
    "\n",
    "#img = cv2.circle (img,(x1,y1),r, color, width) # Рисуем в картинке (переменная img) окружность по формату, исползуля инструмент  cv2"
   ]
  },
  {
   "cell_type": "code",
   "execution_count": 15,
   "metadata": {},
   "outputs": [],
   "source": [
    "# Пишем слово CAR\n",
    "\n",
    "#x,y = 1550,1050-10              # Задаем координаты левого нижнего угла надписи\n",
    "#font_size = 4                   # Размер шрифта\n",
    "#font = cv2.FONT_HERSHEY_SIMPLEX # Наименование шрифта. стандартный шрифт библиотеки cv2\n",
    "#width = 10                      # Толшина шрифта\n",
    "#color = [0,255,0]               # цвет шрифта (зеленый)\n",
    "#text = 'car'                    # сам текст, который выводим\n",
    "\n",
    "#img = cv2.putText(img, text, (x,y), font, font_size, color, width) # Записываем в переменную img с текст по формату, исползуля инструмент  cv2"
   ]
  },
  {
   "cell_type": "code",
   "execution_count": 16,
   "metadata": {},
   "outputs": [
    {
     "data": {
      "text/plain": [
       "True"
      ]
     },
     "execution_count": 16,
     "metadata": {},
     "output_type": "execute_result"
    }
   ],
   "source": [
    "# запись обьекта img в файл image1_test.jpg\n",
    "\n",
    "cv2.imwrite ('image1_test.jpg', img) \n",
    "\n",
    "# командой imwrite библиотеки cv2 в файл 'image1_test.jpg' (появится в каталоге проекта) записываем обьект IMG со всеми изменениями"
   ]
  },
  {
   "cell_type": "code",
   "execution_count": 17,
   "metadata": {},
   "outputs": [
    {
     "data": {
      "image/jpeg": "[encoded data removed]",
      "text/plain": [
       "<IPython.core.display.Image object>"
      ]
     },
     "execution_count": 17,
     "metadata": {},
     "output_type": "execute_result"
    }
   ],
   "source": [
    "# print(img)\n",
    "Image ('image1_test.jpg')"
   ]
  },
  {
   "cell_type": "code",
   "execution_count": null,
   "metadata": {},
   "outputs": [],
   "source": []
  },
  {
   "cell_type": "code",
   "execution_count": null,
   "metadata": {},
   "outputs": [],
   "source": []
  },
  {
   "cell_type": "code",
   "execution_count": 18,
   "metadata": {},
   "outputs": [
    {
     "name": "stdout",
     "output_type": "stream",
     "text": [
      "......................................................................................................................................................."
     ]
    }
   ],
   "source": [
    "#  РАБОТА С ВИДЕО\n",
    "\n",
    "# Оригинальный размер видео  2560  x  1440 (просто посмотрел в свойствах файла)\n",
    "\n",
    "size=(2560//2,1440//2) # задаем кортеж, это будет размер картинки. делим нацело на 2 для уменьшения размера\n",
    "    \n",
    "    \n",
    "    \n",
    "codec = cv2.VideoWriter_fourcc(*'mp4v')  \n",
    "# в переменную codec из библиотеки CV2 через обьект VideoWriter_fourcc кладем кодек 'm','p','4','v' (всегда 4 символа)\n",
    "\n",
    "writer = cv2.VideoWriter ('output.mp4', codec,25,size) \n",
    "# функция VideoWriter библиотеки cv2 пишет файл output.mp4\n",
    "# на вход обьекта подаем имя файла, кодек codec, кол-во кадров (фреймов) в секунду, размер size\n",
    "# \n",
    "#на винде вместо mp4v - MJPG, а вместо mp4 - AVI\n",
    "\n",
    "\n",
    "\n",
    "cap = cv2.VideoCapture('video.mp4')\n",
    "# создали обьект, куда заливаем видео из файла video.mp4\n",
    "\n",
    "\n",
    "\n",
    "while cap.isOpened ():    # цикл - пока CAP открыт\n",
    "    print('.', end='')    # печатаем точку \n",
    "    ret, frame = cap.read()# функция read() возвращает два парметра, их записываем в переменные ret, frame\n",
    "# ret - если видео есть еще (не закончилось ли)\n",
    "# frame (сам фрейм, как матрица, управляется из CV2)  \n",
    "\n",
    "\n",
    "#    if cv2.waitKey(40)  == ord('q'): # выход на q\n",
    "#    if cv2.waitKey(1)  == 27: # выход на escape\n",
    "\n",
    "    if cv2.waitKey(1) & 0xFF == ord('q') or ret == False:\n",
    "        break             #\n",
    "        \n",
    "    frame = cv2.resize(frame,size) # приводим фрейм (кадр) к нашему размеру\n",
    "        \n",
    " # Рисуем квадрат белого шума       \n",
    "    for i in range(200):           #\n",
    "        for j in range(200):       #\n",
    "            frame [i] [j] = [random.randint(0,255),random.randint(0,255),random.randint(0,255) ]\n",
    "            # кадру frame пикселю i,j присваиваем рандомные цвета\n",
    " \n",
    " # Рисуем черно-белый прямоугольник\n",
    "    for i in range (200,1440//2-1):\n",
    "        for j in range (200):\n",
    "            new_color = sum(frame[i][j])//3\n",
    "            frame [i] [j] = [new_color,new_color,new_color]\n",
    " # кадре frame пикселю i,j присваиваем среднее по BGR значение\n",
    "\n",
    "    \n",
    "    \n",
    "    writer.write (frame) #в переменную WRITER записываем текущий фрейм командой WRITE\n",
    "    \n",
    "cap.release ()\n",
    "writer.release ()\n",
    "    \n"
   ]
  },
  {
   "cell_type": "code",
   "execution_count": null,
   "metadata": {},
   "outputs": [],
   "source": []
  },
  {
   "cell_type": "code",
   "execution_count": null,
   "metadata": {},
   "outputs": [],
   "source": []
  },
  {
   "cell_type": "code",
   "execution_count": null,
   "metadata": {},
   "outputs": [],
   "source": []
  }
 ],
 "metadata": {
  "kernelspec": {
   "display_name": "Python 3",
   "language": "python",
   "name": "python3"
  },
  "language_info": {
   "codemirror_mode": {
    "name": "ipython",
    "version": 3
   },
   "file_extension": ".py",
   "mimetype": "text/x-python",
   "name": "python",
   "nbconvert_exporter": "python",
   "pygments_lexer": "ipython3",
   "version": "3.8.3"
  }
 },
 "nbformat": 4,
 "nbformat_minor": 4
}
