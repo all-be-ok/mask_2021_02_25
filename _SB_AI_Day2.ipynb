{
 "cells": [
  {
   "cell_type": "code",
   "execution_count": 1,
   "metadata": {},
   "outputs": [],
   "source": [
    "import cv2 # импорт библтотеки для работы с изображениями\n",
    "import numpy as np  # имппорт библиотеки мат.операций numpy. сокращеют ее до NP\n",
    "from matplotlib import pyplot\n",
    "from IPython import display\n",
    "from IPython.display import Image"
   ]
  },
  {
   "cell_type": "code",
   "execution_count": 4,
   "metadata": {},
   "outputs": [],
   "source": [
    "# организуем нейросеть\n",
    "net = cv2.dnn.readNet('yolo/yolov3.weights', 'yolo/yolov3.cfg')\n",
    "\n",
    "# из библиотеки CV2, берем модуль dnn, даем команду readnet(), которая из файла читает веса и конфигурацию нашей нйеросети"
   ]
  },
  {
   "cell_type": "code",
   "execution_count": 5,
   "metadata": {},
   "outputs": [],
   "source": [
    "# читаем файл с названиями классов, которые распознает нейросеть\n",
    "with open('yolo/coco.names.txt') as f:\n",
    "    labels = f.read().strip().split('\\n')\n",
    "    \n",
    "        \n",
    "    # split делает построчное представление\n",
    "    # strip  отрезает последнюю строку"
   ]
  },
  {
   "cell_type": "code",
   "execution_count": 6,
   "metadata": {},
   "outputs": [
    {
     "data": {
      "text/plain": [
       "80"
      ]
     },
     "execution_count": 6,
     "metadata": {},
     "output_type": "execute_result"
    }
   ],
   "source": [
    "len(labels)"
   ]
  },
  {
   "cell_type": "code",
   "execution_count": 7,
   "metadata": {},
   "outputs": [],
   "source": [
    "\n",
    "\n",
    "img = cv2.imread('image1.jpg') # считали картинку\n",
    "height, width, _ = img.shape  # из картинки считываем длину ширину и кладем в соответствующие переменные\n",
    "blob = cv2.dnn.blobFromImage(img, 1/255, (608, 608), (0, 0, 0), swapRB=True)\n",
    "net.setInput(blob)\n",
    "#blob = cv2.dnn.blobFromImage(img, 1/255, (608,608), (0,0,0), swapRB=True)\n",
    "# вспомогательная функция blobFromImage\n",
    "# обьект img\n",
    "# 1/255 коэффициент, на который надо домножить каждый пиксель\n",
    "# (608,608) размеры фреймов, с которыми будет работать нейросеть. надо смотреть в файле конфигурации yolov3.cfg. строки 9,8. \n",
    "#  (0,0,0)  ничего не вычитать из цветов\n",
    "#  swapRB=True  меняем RGB на BGR\n",
    "#\n",
    "# net.setInput(blob)  функция setInput кладет  blob в  net"
   ]
  },
  {
   "cell_type": "code",
   "execution_count": null,
   "metadata": {},
   "outputs": [],
   "source": [
    "\n",
    "\n",
    "layer_names = net.getLayerNames()   # вынимаем наменования слоев из сети в \n",
    "out_layers_indexes_arr = net.getUnconnectedOutLayers()\n",
    "out_layers_indexes = [index[0] - 1 for index in out_layers_indexes_arr]\n",
    "out_layer_names = [layer_names[index] for index in out_layers_indexes]\n",
    "out_layer_names"
   ]
  },
  {
   "cell_type": "code",
   "execution_count": null,
   "metadata": {},
   "outputs": [],
   "source": [
    "out_layers = net.forward(out_layer_names)"
   ]
  },
  {
   "cell_type": "code",
   "execution_count": null,
   "metadata": {},
   "outputs": [],
   "source": [
    "#  готовим функцию, которая рисует прямоугольники и названия на них (см ноутбук Day1)\n",
    "# label  это тип класса, для которого найдены вероятности\n",
    "\n",
    "def draw_object(img, x, y, w, h, label): # на вход подаем значения - картинка, начало фрейма(координаты левого верхнего угла)\n",
    "    x1, y1 = x - w // 2, y - h // 2  # первая координата, левого верхнего угла прямоугольника\n",
    "    x2, y2 = x + w // 2, y + h // 2 # вторая координата, правого нижнего угла прямоугольника\n",
    "    color = [0, 255, 0] # цвет\n",
    "    width = 5           # толщина линии\n",
    "\n",
    "    img = cv2.rectangle(img, (x1, y1), (x2, y2), color, width)  # рисуем прямоугольник\n",
    "\n",
    "    font_size = 3 #размер шрифта\n",
    "    font = cv2.FONT_HERSHEY_SIMPLEX  # применяемый шрифт\n",
    "    text = label # текстом будет класс обьекта с найденной вероятностью\n",
    "\n",
    "    img = cv2.putText(img, text, (x1, y1 - 10), font, font_size, color, width) # пишем слово\n",
    "    \n",
    "    return img"
   ]
  },
  {
   "cell_type": "code",
   "execution_count": null,
   "metadata": {},
   "outputs": [],
   "source": [
    "object_boxes = []  #формируем список боксов\n",
    "object_probas = []# вероятностей\n",
    "object_labels = []# названий классов\n",
    "\n",
    "for layer in out_layers:\n",
    "    for result in layer:\n",
    "        x, y, w, h = result[:4] # x y w h - им присваиваем первые 4 параметра из result \n",
    "        x = int(x * width) # воссттанавливаем первоначальное значение (координату) центра фрейма (пикселя) (от левого верхнего угла по горизонтали), INT - отбрасываем до целого числа \n",
    "        w = int(w * width)# воссттанавливаем первоначальное значение (координату) центра фрейма (пикселя) (от левого верхнего угла по вертикали)\n",
    "        y = int(y * height) #воссттанавливаем первоначальное значение фрейма (его ширина)\n",
    "        h = int(h * height)# воссттанавливаем первоначальное значение фрейма (его высота)\n",
    "        probas = result[5:] # после пятого элемента в RESULT- это вероятность\n",
    "        max_proba_index = np.argmax(probas) # ищем индекс максимального элемента среди всех вероятностей\n",
    "        max_proba = probas[max_proba_index] # берем список вероятностей и вынимаем из него элемент с указанным индексом\n",
    "        if max_proba > 0: # !!!!!!  если вероятность max_proba больше нуля, то\n",
    "            \n",
    "            \n",
    "            \n",
    "            object_boxes.append([x, y, w, h]) # то в массив object_boxes добавляем x, y, w, h\n",
    "            object_probas.append(float(max_proba)) # представление числа из Йола в Пайтоновский вид\n",
    "            object_labels.append(labels[max_proba_index])  # находим лейбл (название класса обьектм) через индекс найденной вероятности"
   ]
  },
  {
   "cell_type": "code",
   "execution_count": null,
   "metadata": {},
   "outputs": [],
   "source": [
    "# Фильтруем пересекающиеся прямоугольники (по индексам)\n",
    "\n",
    "filtered_boxes_indexes = cv2.dnn.NMSBoxes(object_boxes, object_probas, 0.0, 0.3)\n",
    "\n",
    "# фильтр. отфильтруем  изображения через алгоритм NMSBoxes\n",
    "# принимает на вход список обьектов Boxes\n",
    "# список вероятностей по всем нашим обьектам\n",
    "#  веро]тность, начиная с которой можно вообще начинать рисовать\n",
    "#  процент пересечения площадей !!!!!!!\n",
    "#++++++++++++++++++++++++++++++\n"
   ]
  },
  {
   "cell_type": "code",
   "execution_count": null,
   "metadata": {},
   "outputs": [],
   "source": [
    "img = cv2.imread('image1.jpg')\n",
    "for index_arr in filtered_boxes_indexes:\n",
    "    index = index_arr[0]\n",
    "    box = object_boxes[index]\n",
    "    x, y, w, h = box\n",
    "    img = draw_object(img, x, y, w, h, object_labels[index])"
   ]
  },
  {
   "cell_type": "code",
   "execution_count": null,
   "metadata": {},
   "outputs": [],
   "source": [
    "cv2.imwrite('image1_test.jpg', img)  # записываем изображение img (со всеми нарисованными элементами) в другой файл на диск\n",
    "Image('image1_test.jpg') # показать файл"
   ]
  },
  {
   "cell_type": "code",
   "execution_count": null,
   "metadata": {},
   "outputs": [],
   "source": []
  },
  {
   "cell_type": "code",
   "execution_count": null,
   "metadata": {},
   "outputs": [],
   "source": [
    "with open('yolo/coco.names.txt') as f:\n",
    "    labels = f.read().strip().split('\\n')\n",
    "\n",
    "layer_names = net.getLayerNames()\n",
    "out_layers_indexes_arr = net.getUnconnectedOutLayers()\n",
    "out_layers_indexes = [index[0] - 1 for index in out_layers_indexes_arr]\n",
    "out_layer_names = [layer_names[index] for index in out_layers_indexes]\n",
    "out_layer_names"
   ]
  },
  {
   "cell_type": "code",
   "execution_count": null,
   "metadata": {},
   "outputs": [],
   "source": [
    "def draw_object(img, x, y, w, h, label):\n",
    "    x1, y1 = x - w // 2, y - h // 2\n",
    "    x2, y2 = x + w // 2, y + h // 2\n",
    "    color = [0, 255, 0]\n",
    "    width = 3\n",
    "\n",
    "    img = cv2.rectangle(img, (x1, y1), (x2, y2), color, width)\n",
    "\n",
    "    font_size = 1\n",
    "    font = cv2.FONT_HERSHEY_SIMPLEX\n",
    "    text = label\n",
    "\n",
    "    img = cv2.putText(img, text, (x1, y1 - 10), font, font_size, color, width)\n",
    "    \n",
    "    return img\n",
    "\n",
    "def apply_yolo(img):\n",
    "    height, width, _ = img.shape\n",
    "    blob = cv2.dnn.blobFromImage(img, 1/255, (608, 608), (0, 0, 0), swapRB=True)\n",
    "    net.setInput(blob)\n",
    "    \n",
    "    out_layers = net.forward(out_layer_names)\n",
    "    \n",
    "    object_boxes = []\n",
    "    object_probas = []\n",
    "    object_labels = []\n",
    "\n",
    "    for layer in out_layers:\n",
    "        for result in layer:\n",
    "            x, y, w, h = result[:4]\n",
    "            x = int(x * width)\n",
    "            w = int(w * width)\n",
    "            y = int(y * height)\n",
    "            h = int(h * height)\n",
    "            probas = result[5:]\n",
    "            max_proba_index = np.argmax(probas)\n",
    "            max_proba = probas[max_proba_index]\n",
    "            if max_proba > 0:\n",
    "                object_boxes.append([x, y, w, h])\n",
    "                object_probas.append(float(max_proba))\n",
    "                object_labels.append(labels[max_proba_index])\n",
    "\n",
    "    filtered_boxes_indexes = cv2.dnn.NMSBoxes(object_boxes, object_probas, 0.0, 0.3)\n",
    "    \n",
    "    for index_arr in filtered_boxes_indexes:\n",
    "        index = index_arr[0]\n",
    "        box = object_boxes[index]\n",
    "        x, y, w, h = box\n",
    "        img = draw_object(img, x, y, w, h, object_labels[index])\n",
    "    \n",
    "    return img"
   ]
  },
  {
   "cell_type": "code",
   "execution_count": null,
   "metadata": {},
   "outputs": [],
   "source": [
    "cap = cv2.VideoCapture('video.mp4')\n",
    "\n",
    "while cap.isOpened():\n",
    "    ret, frame = cap.read()\n",
    "    if not ret:\n",
    "        break\n",
    "\n",
    "    frame = apply_yolo(frame)\n",
    "    \n",
    "    frame = cv2.cvtColor(frame, cv2.COLOR_BGR2RGB)    \n",
    "    \n",
    "    pyplot.figure(figsize=(20, 15))\n",
    "    pyplot.imshow(frame)\n",
    "    display.clear_output(wait=True)\n",
    "    display.display(pyplot.gcf())\n",
    "    \n",
    "\n",
    "cap.release()"
   ]
  },
  {
   "cell_type": "code",
   "execution_count": null,
   "metadata": {},
   "outputs": [],
   "source": [
    "size = (2560 // 2, 1440 // 2)\n",
    "\n",
    "codec = cv2.VideoWriter_fourcc(*'mp4v')\n",
    "writer = cv2.VideoWriter('output.mp4', codec, 25, size)\n",
    "# codec = cv2.VideoWriter_fourcc(*'MJPG')\n",
    "# out = cv2.VideoWriter('output.avi', codec, 25, size)\n",
    "\n",
    "cap = cv2.VideoCapture('video.mp4')\n",
    "\n",
    "#while cap.isOpened():\n",
    "for i in range(20):\n",
    "    print('.', end='')\n",
    "\n",
    "    ret, frame = cap.read()\n",
    "    if not ret:\n",
    "        break\n",
    "\n",
    "    frame = apply_yolo(frame)\n",
    "    frame = cv2.resize(frame, size)\n",
    "    writer.write(frame)\n",
    "\n",
    "cap.release()\n",
    "writer.release()"
   ]
  },
  {
   "cell_type": "code",
   "execution_count": null,
   "metadata": {},
   "outputs": [],
   "source": []
  },
  {
   "cell_type": "code",
   "execution_count": null,
   "metadata": {},
   "outputs": [],
   "source": []
  },
  {
   "cell_type": "code",
   "execution_count": null,
   "metadata": {},
   "outputs": [],
   "source": []
  },
  {
   "cell_type": "code",
   "execution_count": null,
   "metadata": {},
   "outputs": [],
   "source": []
  }
 ],
 "metadata": {
  "kernelspec": {
   "display_name": "Python 3",
   "language": "python",
   "name": "python3"
  },
  "language_info": {
   "codemirror_mode": {
    "name": "ipython",
    "version": 3
   },
   "file_extension": ".py",
   "mimetype": "text/x-python",
   "name": "python",
   "nbconvert_exporter": "python",
   "pygments_lexer": "ipython3",
   "version": "3.8.3"
  }
 },
 "nbformat": 4,
 "nbformat_minor": 4
}
